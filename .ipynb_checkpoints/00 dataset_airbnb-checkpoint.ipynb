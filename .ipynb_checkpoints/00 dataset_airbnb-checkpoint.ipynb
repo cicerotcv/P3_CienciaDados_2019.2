{
 "cells": [
  {
   "cell_type": "markdown",
   "metadata": {},
   "source": [
    "<p style=\"text-align:center; font-size:20px; font-weight:700; font-family: monospace; background-color:rgb(50,50,50); color:rgb(0,255,0); padding:1vh 1vw; border:hidden; border-radius:3px\">Projeto 3 - Ciência dos Dados</p>"
   ]
  },
  {
   "cell_type": "markdown",
   "metadata": {},
   "source": [
    "Alunos:\n",
    "<ul style=\"font-family:monospace\">\n",
    "    <li>Cicero Tiago Carneiro Valentim</li>\n",
    "    <li>Luiz Felipe Lazzaron</li>\n",
    "    <li>Marcos Vinícius da Silva</li>\n",
    "    <li>Thalia Loiola Silva</li>\n",
    "</ul>"
   ]
  },
  {
   "cell_type": "markdown",
   "metadata": {},
   "source": []
  },
  {
   "cell_type": "code",
   "execution_count": null,
   "metadata": {},
   "outputs": [],
   "source": [
    "from imports import  *\n",
    "%matplotlib inline"
   ]
  },
  {
   "cell_type": "code",
   "execution_count": null,
   "metadata": {},
   "outputs": [],
   "source": [
    "airbnb = pd.read_csv(\"AB_NYC_2019.csv\")"
   ]
  },
  {
   "cell_type": "code",
   "execution_count": null,
   "metadata": {
    "scrolled": true
   },
   "outputs": [],
   "source": [
    "airbnb.head(2)"
   ]
  },
  {
   "cell_type": "markdown",
   "metadata": {},
   "source": [
    "<p style=\"text-align:center; font-size:20px; font-weight:700; font-family: monospace; background-color:rgb(50,50,50); color:rgb(0,255,0); padding:1vh 1vw; border:hidden; border-radius:3px\">Limpeza dos dados</p>"
   ]
  },
  {
   "cell_type": "code",
   "execution_count": null,
   "metadata": {},
   "outputs": [],
   "source": [
    "# limpar colunas desnecessárias:\n",
    "airbnb = airbnb.drop(columns=[\"id\",\"name\",\"host_name\",\"minimum_nights\",\"last_review\", 'calculated_host_listings_count'])"
   ]
  },
  {
   "cell_type": "code",
   "execution_count": null,
   "metadata": {},
   "outputs": [],
   "source": [
    "airbnb.head(2)"
   ]
  },
  {
   "cell_type": "code",
   "execution_count": null,
   "metadata": {},
   "outputs": [],
   "source": [
    "# analisar a coluna \"room_type\", pois ela parece ser relevante para a análise\n",
    "airbnb[\"room_type\"].value_counts() # Essa coluna mostrou bastante potencial como variável qualitativa"
   ]
  },
  {
   "cell_type": "code",
   "execution_count": null,
   "metadata": {},
   "outputs": [],
   "source": [
    "new_york = mpimg.imread('New_York_City_.png',0)\n",
    "\n",
    "airbnb.sort_values('number_of_reviews', ascending=False).plot(kind=\"scatter\", x='longitude', y='latitude', marker=\"o\",\n",
    "            s=(airbnb[\"number_of_reviews\"]/5), grid=True, colorbar=False, c=np.log(airbnb[\"number_of_reviews\"]), \n",
    "            cmap=plt.get_cmap(\"jet\"), figsize=(10,10), label=\"number_of_reviews\", alpha=0.4)\n",
    "\n",
    "plt.imshow(new_york, alpha=0.4, cmap=plt.get_cmap(\"jet\"), extent=[-74.27, -73.67, 40.495, 40.92])\n",
    "eixo_x = np.linspace(min(airbnb.longitude), max(airbnb.longitude), 0.3)\n",
    "plt.xlabel(\"Longitude\")\n",
    "plt.legend()\n",
    "plt.title(\"\")\n",
    "plt.show()"
   ]
  },
  {
   "cell_type": "code",
   "execution_count": null,
   "metadata": {},
   "outputs": [],
   "source": [
    "scatter_matrix(airbnb[airbnb.columns], figsize=(30,15), alpha=0.1)\n",
    "plt.show();"
   ]
  },
  {
   "cell_type": "markdown",
   "metadata": {},
   "source": [
    "<p style=\"text-align:center; font-size:20px; font-weight:700; font-family: monospace; background-color:rgb(50,50,50); color:rgb(0,255,0); padding:1vh 1vw; border:hidden; border-radius:3px\">Separação em treinamento e teste</p>"
   ]
  },
  {
   "cell_type": "code",
   "execution_count": null,
   "metadata": {},
   "outputs": [],
   "source": [
    "split = StratifiedShuffleSplit(n_splits=1, test_size=0.2, random_state=42)\n",
    "for train_index, test_index in split.split(airbnb, airbnb[\"room_type\"]):\n",
    "    strat_train_set = airbnb.loc[train_index]\n",
    "    strat_test_set = airbnb.loc[test_index]"
   ]
  },
  {
   "cell_type": "code",
   "execution_count": null,
   "metadata": {},
   "outputs": [],
   "source": [
    "strat_train_set.head()"
   ]
  },
  {
   "cell_type": "code",
   "execution_count": null,
   "metadata": {},
   "outputs": [],
   "source": [
    "airbnb = strat_train_set.drop(\"price\", axis=1)\n",
    "airbnb_labels = strat_train_set[\"price\"].copy()"
   ]
  },
  {
   "cell_type": "code",
   "execution_count": null,
   "metadata": {},
   "outputs": [],
   "source": [
    "airbnb.head(2)"
   ]
  },
  {
   "cell_type": "code",
   "execution_count": null,
   "metadata": {},
   "outputs": [],
   "source": [
    "airbnb.shape, airbnb_labels.shape"
   ]
  },
  {
   "cell_type": "code",
   "execution_count": null,
   "metadata": {},
   "outputs": [],
   "source": [
    "num_attribs = list(airbnb.drop(columns=[\"neighbourhood_group\",\"neighbourhood\",\"room_type\"]).columns)\n",
    "cat_attribs = [\"neighbourhood_group\",\"neighbourhood\",\"room_type\"]\n",
    "\n",
    "num_pipeline = Pipeline([\n",
    "    ( 'selector', DataFrameSelector(num_attribs) ),\n",
    "    ('imputer', SimpleImputer(strategy=\"median\")),\n",
    "    ( 'std_scaler', StandardScaler() )\n",
    "])\n",
    "cat_pipeline = Pipeline([\n",
    "    ( 'selector', DataFrameSelector(cat_attribs) ),\n",
    "    ( 'label_encoder', LabelEncoder())\n",
    "])\n",
    "full_pipeline = ColumnTransformer([\n",
    "        (\"num\", num_pipeline, num_attribs),\n",
    "        (\"cat\", OneHotEncoder(), cat_attribs),\n",
    "])"
   ]
  },
  {
   "cell_type": "code",
   "execution_count": null,
   "metadata": {},
   "outputs": [],
   "source": [
    "airbnb_prepared = full_pipeline.fit_transform(airbnb)"
   ]
  },
  {
   "cell_type": "code",
   "execution_count": null,
   "metadata": {},
   "outputs": [],
   "source": [
    "airbnb_prepared.shape"
   ]
  },
  {
   "cell_type": "code",
   "execution_count": null,
   "metadata": {},
   "outputs": [],
   "source": [
    "some_data = airbnb.iloc[:5]"
   ]
  },
  {
   "cell_type": "code",
   "execution_count": null,
   "metadata": {},
   "outputs": [],
   "source": [
    "some_labels = airbnb_labels.iloc[:5]"
   ]
  },
  {
   "cell_type": "code",
   "execution_count": null,
   "metadata": {},
   "outputs": [],
   "source": [
    "some_data_prepared = full_pipeline.transform(some_data)"
   ]
  },
  {
   "cell_type": "markdown",
   "metadata": {},
   "source": [
    "<hr><p style=\"text-align:center; font-size:20px; font-weight:700; font-family: monospace;\">Regressão Linear</p><hr>"
   ]
  },
  {
   "cell_type": "code",
   "execution_count": null,
   "metadata": {},
   "outputs": [],
   "source": [
    "time_init = time()\n",
    "\n",
    "lin_reg = LinearRegression()\n",
    "lin_reg.fit(airbnb_prepared, airbnb_labels)\n",
    "\n",
    "time_exit = time()\n",
    "print(\"Tempo gasto: {:.2f} segundos\".format(time_exit - time_init))"
   ]
  },
  {
   "cell_type": "code",
   "execution_count": null,
   "metadata": {},
   "outputs": [],
   "source": [
    "print(\"Predictions:\\t\", lin_reg.predict(some_data_prepared))\n",
    "print(\"Labels:\\t\\t\", list(some_labels))"
   ]
  },
  {
   "cell_type": "code",
   "execution_count": null,
   "metadata": {},
   "outputs": [],
   "source": [
    "airbnb_predictions = lin_reg.predict(airbnb_prepared)"
   ]
  },
  {
   "cell_type": "code",
   "execution_count": null,
   "metadata": {},
   "outputs": [],
   "source": [
    "lin_mse = mean_squared_error(airbnb_labels, airbnb_predictions)\n",
    "lin_rmse = np.sqrt(lin_mse)\n",
    "lin_rmse"
   ]
  },
  {
   "cell_type": "code",
   "execution_count": null,
   "metadata": {},
   "outputs": [],
   "source": [
    "time_init = time()\n",
    "lin_scores = cross_val_score(lin_reg, airbnb_prepared, airbnb_labels,\n",
    "                             scoring=\"neg_mean_squared_error\", cv=10)\n",
    "lin_rmse_scores = np.sqrt(-lin_scores)\n",
    "\n",
    "print(\"\\nTempo gasto: {:.2f} segundos\".format(time() - time_init))"
   ]
  },
  {
   "cell_type": "code",
   "execution_count": null,
   "metadata": {},
   "outputs": [],
   "source": [
    "display_scores(lin_rmse_scores)"
   ]
  },
  {
   "cell_type": "code",
   "execution_count": null,
   "metadata": {},
   "outputs": [],
   "source": [
    "plt.plot(airbnb_labels, airbnb_labels, 'r.')\n",
    "plt.plot(airbnb_labels, airbnb_predictions, '.')\n",
    "plt.grid(True)\n",
    "plt.show()"
   ]
  },
  {
   "cell_type": "markdown",
   "metadata": {},
   "source": [
    "<hr><p style=\"text-align:center; font-size:20px; font-weight:700; font-family: monospace\">Regressão Logística</p><hr>"
   ]
  },
  {
   "cell_type": "code",
   "execution_count": null,
   "metadata": {},
   "outputs": [],
   "source": [
    "time_init = time()\n",
    "\n",
    "log_reg = LogisticRegression()\n",
    "log_reg.fit(airbnb_prepared, airbnb_labels)\n",
    "\n",
    "print(\"\\nTempo gasto: {:.2f} segundos\".format(time() - time_init))"
   ]
  },
  {
   "cell_type": "code",
   "execution_count": null,
   "metadata": {},
   "outputs": [],
   "source": [
    "print(\"Predictions:\\t\", log_reg.predict(some_data_prepared))\n",
    "print(\"Labels:\\t\\t\", list(some_labels))"
   ]
  },
  {
   "cell_type": "code",
   "execution_count": null,
   "metadata": {},
   "outputs": [],
   "source": [
    "time_init = time()\n",
    "\n",
    "log_rmse_scores = cross_val_score(log_reg, airbnb_prepared, airbnb_labels,\n",
    "                             scoring=\"neg_mean_squared_error\", cv=10)\n",
    "\n",
    "print(\"\\nTempo gasto: {:.2f} segundos\".format(time() - time_init))"
   ]
  },
  {
   "cell_type": "code",
   "execution_count": null,
   "metadata": {},
   "outputs": [],
   "source": [
    "display_scores(log_rmse_scores)"
   ]
  },
  {
   "cell_type": "code",
   "execution_count": null,
   "metadata": {},
   "outputs": [],
   "source": [
    "airbnb_predictions = log_reg.predict(airbnb_prepared)"
   ]
  },
  {
   "cell_type": "code",
   "execution_count": null,
   "metadata": {},
   "outputs": [],
   "source": [
    "plt.plot(airbnb_labels, airbnb_labels, 'r.')\n",
    "plt.plot(airbnb_labels, airbnb_predictions, '.')\n",
    "plt.grid(True)\n",
    "plt.show()"
   ]
  },
  {
   "cell_type": "markdown",
   "metadata": {},
   "source": [
    "<hr><p style=\"text-align:center; font-size:20px; font-weight:700; font-family: monospace\">Decision Tree</p><hr>"
   ]
  },
  {
   "cell_type": "code",
   "execution_count": null,
   "metadata": {},
   "outputs": [],
   "source": [
    "time_init = time()\n",
    "\n",
    "tree_reg = DecisionTreeRegressor()\n",
    "tree_reg.fit(airbnb_prepared, airbnb_labels)\n",
    "\n",
    "print(\"\\nTempo gasto: {:.2f} segundos\".format(time() - time_init))"
   ]
  },
  {
   "cell_type": "code",
   "execution_count": null,
   "metadata": {},
   "outputs": [],
   "source": [
    "print(\"Predictions:\\t\", tree_reg.predict(some_data_prepared))\n",
    "print(\"Labels:\\t\\t\", list(some_labels))"
   ]
  },
  {
   "cell_type": "code",
   "execution_count": null,
   "metadata": {},
   "outputs": [],
   "source": [
    "tree_mse = mean_squared_error(airbnb_labels, airbnb_predictions)\n",
    "tree_rmse = np.sqrt(tree_mse)\n",
    "tree_rmse"
   ]
  },
  {
   "cell_type": "code",
   "execution_count": null,
   "metadata": {},
   "outputs": [],
   "source": [
    "time_init = time()\n",
    "\n",
    "scores = cross_val_score(tree_reg, airbnb_prepared, airbnb_labels,\n",
    "    scoring=\"neg_mean_squared_error\", cv=10)\n",
    "rmse_scores = np.sqrt(-scores)\n",
    "\n",
    "print(\"\\nTempo gasto: {:.2f} segundos\".format(time() - time_init))"
   ]
  },
  {
   "cell_type": "code",
   "execution_count": null,
   "metadata": {},
   "outputs": [],
   "source": [
    "display_scores(rmse_scores)"
   ]
  },
  {
   "cell_type": "code",
   "execution_count": null,
   "metadata": {},
   "outputs": [],
   "source": [
    "airbnb_predictions = tree_reg.predict(airbnb_prepared)"
   ]
  },
  {
   "cell_type": "code",
   "execution_count": null,
   "metadata": {},
   "outputs": [],
   "source": [
    "plt.plot(airbnb_labels, airbnb_labels, 'r.', markersize=5)\n",
    "plt.plot(airbnb_labels, airbnb_predictions, '.')\n",
    "plt.grid(True)\n",
    "plt.show()"
   ]
  },
  {
   "cell_type": "markdown",
   "metadata": {},
   "source": [
    "<hr><p style=\"text-align:center; font-size:20px; font-weight:700; font-family: monospace\">Random Forest</p><hr>"
   ]
  },
  {
   "cell_type": "code",
   "execution_count": null,
   "metadata": {},
   "outputs": [],
   "source": [
    "time_init = time()\n",
    "\n",
    "forest_reg = RandomForestRegressor()\n",
    "forest_reg.fit(airbnb_prepared, airbnb_labels)\n",
    "\n",
    "print(\"\\nTempo gasto: {:.2f} segundos\".format(time() - time_init))"
   ]
  },
  {
   "cell_type": "code",
   "execution_count": null,
   "metadata": {},
   "outputs": [],
   "source": [
    "time_init = time()\n",
    "\n",
    "forest_rmse_scores = cross_val_score(forest_reg, airbnb_prepared, airbnb_labels,\n",
    "                             scoring=\"neg_mean_squared_error\", cv=10)\n",
    "\n",
    "print(\"\\nTempo gasto: {:.2f} segundos\".format(time() - time_init))"
   ]
  },
  {
   "cell_type": "code",
   "execution_count": null,
   "metadata": {},
   "outputs": [],
   "source": [
    "print(\"Predictions:\\t\", forest_reg.predict(some_data_prepared))\n",
    "print(\"Labels:\\t\\t\", list(some_labels))"
   ]
  },
  {
   "cell_type": "code",
   "execution_count": null,
   "metadata": {},
   "outputs": [],
   "source": [
    "display_scores(forest_rmse_scores)"
   ]
  },
  {
   "cell_type": "code",
   "execution_count": null,
   "metadata": {},
   "outputs": [],
   "source": [
    "airbnb_predictions = forest_reg.predict(airbnb_prepared)"
   ]
  }
 ],
 "metadata": {
  "kernelspec": {
   "display_name": "Python 3",
   "language": "python",
   "name": "python3"
  },
  "language_info": {
   "codemirror_mode": {
    "name": "ipython",
    "version": 3
   },
   "file_extension": ".py",
   "mimetype": "text/x-python",
   "name": "python",
   "nbconvert_exporter": "python",
   "pygments_lexer": "ipython3",
   "version": "3.7.1"
  }
 },
 "nbformat": 4,
 "nbformat_minor": 2
}
